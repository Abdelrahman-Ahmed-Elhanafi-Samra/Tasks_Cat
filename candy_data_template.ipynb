{
 "cells": [
  {
   "cell_type": "markdown",
   "metadata": {},
   "source": [
    "# Project: cleanning - [candy data]\n",
    "### this notebook is for educational purpose . in this notebook we will do some cleanning\n",
    "\n",
    "## Table of Contents\n",
    "<ul>\n",
    "<li><a href=\"#intro\">Introduction</a></li>\n",
    "<li><a href=\"#wrangling\">wrangling</a></li>\n",
    "  \n",
    "</ul>"
   ]
  },
  {
   "cell_type": "markdown",
   "metadata": {},
   "source": [
    "<a id='intro'></a>\n",
    "## Introduction\n",
    "\n",
    "### Dataset Description \n",
    "\n",
    "> i will go through candy data 2017 , this data has :\n",
    "- Internal_ID\n",
    "- Q1-Going Out?: Are you actually going trick or treating yourself? \"has values `Yes or No`\"\n",
    "- Q2-Gender: It has four different options, `Femal ,Male ,Other ,I'd rather not say`\n",
    "- Q3-Age: Numerical field\n",
    "- Q4-Country: Text Field, but users have written their own version of the names. Example, for America, there are entries such as USA, us, US, America so we should consider that while cleanning\n",
    "- Q5-State/Province: Text Field, but users have written their own version of the names. Same as the country data.\n",
    "- Q6-Joy Or Despair: All kinds of chocolate bars are the questions with three distinct options to choose from (Joy, Meh, Despair).\n",
    "- Q7-Joy Other: Text Field to write items not included above that give you JOY. Lots of missing values.\n",
    "- Q8-Despair Other: Text Field ti write items not included above that give you DESPAIR. Lots of missing values.\n",
    "- Q9-Other Comments: Text Field. Lots of missing values.\n",
    "- Q10-Dress: Binary field. Missing values present\n",
    "- Unnamed: 113\n",
    "- Q11-Day: Binary Answer Field. Missing values present\n"
   ]
  },
  {
   "cell_type": "markdown",
   "metadata": {},
   "source": [
    "# 1- import packages and load data"
   ]
  },
  {
   "cell_type": "code",
   "execution_count": 1,
   "metadata": {
    "scrolled": false
   },
   "outputs": [
    {
     "name": "stderr",
     "output_type": "stream",
     "text": [
      "C:\\Users\\HP\\anaconda3\\lib\\site-packages\\openpyxl\\worksheet\\_reader.py:312: UserWarning: Unknown extension is not supported and will be removed\n",
      "  warn(msg)\n"
     ]
    },
    {
     "data": {
      "text/html": [
       "<div>\n",
       "<style scoped>\n",
       "    .dataframe tbody tr th:only-of-type {\n",
       "        vertical-align: middle;\n",
       "    }\n",
       "\n",
       "    .dataframe tbody tr th {\n",
       "        vertical-align: top;\n",
       "    }\n",
       "\n",
       "    .dataframe thead th {\n",
       "        text-align: right;\n",
       "    }\n",
       "</style>\n",
       "<table border=\"1\" class=\"dataframe\">\n",
       "  <thead>\n",
       "    <tr style=\"text-align: right;\">\n",
       "      <th></th>\n",
       "      <th>Internal ID</th>\n",
       "      <th>Q1: GOING OUT?</th>\n",
       "      <th>Q2: GENDER</th>\n",
       "      <th>Q3: AGE</th>\n",
       "      <th>Q4: COUNTRY</th>\n",
       "      <th>Q5: STATE, PROVINCE, COUNTY, ETC</th>\n",
       "      <th>Q6 | 100 Grand Bar</th>\n",
       "      <th>Q6 | Anonymous brown globs that come in black and orange wrappers\\t(a.k.a. Mary Janes)</th>\n",
       "      <th>Q6 | Any full-sized candy bar</th>\n",
       "      <th>Q6 | Black Jacks</th>\n",
       "      <th>...</th>\n",
       "      <th>Q8: DESPAIR OTHER</th>\n",
       "      <th>Q9: OTHER COMMENTS</th>\n",
       "      <th>Q10: DRESS</th>\n",
       "      <th>Unnamed: 113</th>\n",
       "      <th>Q11: DAY</th>\n",
       "      <th>Q12: MEDIA [Daily Dish]</th>\n",
       "      <th>Q12: MEDIA [Science]</th>\n",
       "      <th>Q12: MEDIA [ESPN]</th>\n",
       "      <th>Q12: MEDIA [Yahoo]</th>\n",
       "      <th>Click Coordinates (x, y)</th>\n",
       "    </tr>\n",
       "  </thead>\n",
       "  <tbody>\n",
       "    <tr>\n",
       "      <th>0</th>\n",
       "      <td>90258773</td>\n",
       "      <td>NaN</td>\n",
       "      <td>NaN</td>\n",
       "      <td>NaN</td>\n",
       "      <td>NaN</td>\n",
       "      <td>NaN</td>\n",
       "      <td>NaN</td>\n",
       "      <td>NaN</td>\n",
       "      <td>NaN</td>\n",
       "      <td>NaN</td>\n",
       "      <td>...</td>\n",
       "      <td>NaN</td>\n",
       "      <td>NaN</td>\n",
       "      <td>NaN</td>\n",
       "      <td>NaN</td>\n",
       "      <td>NaN</td>\n",
       "      <td>NaN</td>\n",
       "      <td>NaN</td>\n",
       "      <td>NaN</td>\n",
       "      <td>NaN</td>\n",
       "      <td>NaN</td>\n",
       "    </tr>\n",
       "    <tr>\n",
       "      <th>1</th>\n",
       "      <td>90272821</td>\n",
       "      <td>No</td>\n",
       "      <td>Male</td>\n",
       "      <td>44</td>\n",
       "      <td>USA</td>\n",
       "      <td>NM</td>\n",
       "      <td>MEH</td>\n",
       "      <td>DESPAIR</td>\n",
       "      <td>JOY</td>\n",
       "      <td>MEH</td>\n",
       "      <td>...</td>\n",
       "      <td>NaN</td>\n",
       "      <td>Bottom line is Twix is really the only candy w...</td>\n",
       "      <td>White and gold</td>\n",
       "      <td>NaN</td>\n",
       "      <td>Sunday</td>\n",
       "      <td>NaN</td>\n",
       "      <td>1.0</td>\n",
       "      <td>NaN</td>\n",
       "      <td>NaN</td>\n",
       "      <td>(84, 25)</td>\n",
       "    </tr>\n",
       "    <tr>\n",
       "      <th>2</th>\n",
       "      <td>90272829</td>\n",
       "      <td>NaN</td>\n",
       "      <td>Male</td>\n",
       "      <td>49</td>\n",
       "      <td>USA</td>\n",
       "      <td>Virginia</td>\n",
       "      <td>NaN</td>\n",
       "      <td>NaN</td>\n",
       "      <td>NaN</td>\n",
       "      <td>NaN</td>\n",
       "      <td>...</td>\n",
       "      <td>NaN</td>\n",
       "      <td>NaN</td>\n",
       "      <td>NaN</td>\n",
       "      <td>NaN</td>\n",
       "      <td>NaN</td>\n",
       "      <td>NaN</td>\n",
       "      <td>NaN</td>\n",
       "      <td>NaN</td>\n",
       "      <td>NaN</td>\n",
       "      <td>NaN</td>\n",
       "    </tr>\n",
       "    <tr>\n",
       "      <th>3</th>\n",
       "      <td>90272840</td>\n",
       "      <td>No</td>\n",
       "      <td>Male</td>\n",
       "      <td>40</td>\n",
       "      <td>us</td>\n",
       "      <td>or</td>\n",
       "      <td>MEH</td>\n",
       "      <td>DESPAIR</td>\n",
       "      <td>JOY</td>\n",
       "      <td>MEH</td>\n",
       "      <td>...</td>\n",
       "      <td>NaN</td>\n",
       "      <td>Raisins can go to hell</td>\n",
       "      <td>White and gold</td>\n",
       "      <td>NaN</td>\n",
       "      <td>Sunday</td>\n",
       "      <td>NaN</td>\n",
       "      <td>1.0</td>\n",
       "      <td>NaN</td>\n",
       "      <td>NaN</td>\n",
       "      <td>(75, 23)</td>\n",
       "    </tr>\n",
       "    <tr>\n",
       "      <th>4</th>\n",
       "      <td>90272841</td>\n",
       "      <td>No</td>\n",
       "      <td>Male</td>\n",
       "      <td>23</td>\n",
       "      <td>usa</td>\n",
       "      <td>exton pa</td>\n",
       "      <td>JOY</td>\n",
       "      <td>DESPAIR</td>\n",
       "      <td>JOY</td>\n",
       "      <td>DESPAIR</td>\n",
       "      <td>...</td>\n",
       "      <td>NaN</td>\n",
       "      <td>NaN</td>\n",
       "      <td>White and gold</td>\n",
       "      <td>NaN</td>\n",
       "      <td>Friday</td>\n",
       "      <td>NaN</td>\n",
       "      <td>1.0</td>\n",
       "      <td>NaN</td>\n",
       "      <td>NaN</td>\n",
       "      <td>(70, 10)</td>\n",
       "    </tr>\n",
       "  </tbody>\n",
       "</table>\n",
       "<p>5 rows × 120 columns</p>\n",
       "</div>"
      ],
      "text/plain": [
       "   Internal ID Q1: GOING OUT? Q2: GENDER Q3: AGE Q4: COUNTRY  \\\n",
       "0     90258773            NaN        NaN     NaN         NaN   \n",
       "1     90272821             No       Male      44        USA    \n",
       "2     90272829            NaN       Male      49         USA   \n",
       "3     90272840             No       Male      40          us   \n",
       "4     90272841             No       Male      23         usa   \n",
       "\n",
       "  Q5: STATE, PROVINCE, COUNTY, ETC Q6 | 100 Grand Bar  \\\n",
       "0                              NaN                NaN   \n",
       "1                               NM                MEH   \n",
       "2                         Virginia                NaN   \n",
       "3                               or                MEH   \n",
       "4                         exton pa                JOY   \n",
       "\n",
       "  Q6 | Anonymous brown globs that come in black and orange wrappers\\t(a.k.a. Mary Janes)  \\\n",
       "0                                                NaN                                       \n",
       "1                                            DESPAIR                                       \n",
       "2                                                NaN                                       \n",
       "3                                            DESPAIR                                       \n",
       "4                                            DESPAIR                                       \n",
       "\n",
       "  Q6 | Any full-sized candy bar Q6 | Black Jacks  ... Q8: DESPAIR OTHER  \\\n",
       "0                           NaN              NaN  ...               NaN   \n",
       "1                           JOY              MEH  ...               NaN   \n",
       "2                           NaN              NaN  ...               NaN   \n",
       "3                           JOY              MEH  ...               NaN   \n",
       "4                           JOY          DESPAIR  ...               NaN   \n",
       "\n",
       "                                  Q9: OTHER COMMENTS      Q10: DRESS  \\\n",
       "0                                                NaN             NaN   \n",
       "1  Bottom line is Twix is really the only candy w...  White and gold   \n",
       "2                                                NaN             NaN   \n",
       "3                             Raisins can go to hell  White and gold   \n",
       "4                                                NaN  White and gold   \n",
       "\n",
       "  Unnamed: 113 Q11: DAY Q12: MEDIA [Daily Dish] Q12: MEDIA [Science]  \\\n",
       "0          NaN      NaN                     NaN                  NaN   \n",
       "1          NaN   Sunday                     NaN                  1.0   \n",
       "2          NaN      NaN                     NaN                  NaN   \n",
       "3          NaN   Sunday                     NaN                  1.0   \n",
       "4          NaN   Friday                     NaN                  1.0   \n",
       "\n",
       "  Q12: MEDIA [ESPN] Q12: MEDIA [Yahoo] Click Coordinates (x, y)  \n",
       "0               NaN                NaN                      NaN  \n",
       "1               NaN                NaN                 (84, 25)  \n",
       "2               NaN                NaN                      NaN  \n",
       "3               NaN                NaN                 (75, 23)  \n",
       "4               NaN                NaN                 (70, 10)  \n",
       "\n",
       "[5 rows x 120 columns]"
      ]
     },
     "execution_count": 1,
     "metadata": {},
     "output_type": "execute_result"
    }
   ],
   "source": [
    "import pandas as pd\n",
    "import numpy as np\n",
    "candy = pd.read_excel('candyhierarchy2017.xlsx')\n",
    "candy.head()"
   ]
  },
  {
   "cell_type": "markdown",
   "metadata": {},
   "source": [
    "<a id='wrangling'></a>\n",
    "## Data Wrangling\n",
    "\n",
    "\n",
    "\n",
    "### General Properties"
   ]
  },
  {
   "cell_type": "markdown",
   "metadata": {},
   "source": [
    "# 2- show some general properties for the data "
   ]
  },
  {
   "cell_type": "code",
   "execution_count": 2,
   "metadata": {
    "scrolled": false
   },
   "outputs": [
    {
     "name": "stdout",
     "output_type": "stream",
     "text": [
      "<class 'pandas.core.frame.DataFrame'>\n",
      "RangeIndex: 2460 entries, 0 to 2459\n",
      "Data columns (total 120 columns):\n",
      " #    Column                                                                                 Non-Null Count  Dtype  \n",
      "---   ------                                                                                 --------------  -----  \n",
      " 0    Internal ID                                                                            2460 non-null   int64  \n",
      " 1    Q1: GOING OUT?                                                                         2350 non-null   object \n",
      " 2    Q2: GENDER                                                                             2419 non-null   object \n",
      " 3    Q3: AGE                                                                                2376 non-null   object \n",
      " 4    Q4: COUNTRY                                                                            2396 non-null   object \n",
      " 5    Q5: STATE, PROVINCE, COUNTY, ETC                                                       2360 non-null   object \n",
      " 6    Q6 | 100 Grand Bar                                                                     1713 non-null   object \n",
      " 7    Q6 | Anonymous brown globs that come in black and orange wrappers\t(a.k.a. Mary Janes)  1726 non-null   object \n",
      " 8    Q6 | Any full-sized candy bar                                                          1788 non-null   object \n",
      " 9    Q6 | Black Jacks                                                                       1502 non-null   object \n",
      " 10   Q6 | Bonkers (the candy)                                                               1468 non-null   object \n",
      " 11   Q6 | Bonkers (the board game)                                                          1454 non-null   object \n",
      " 12   Q6 | Bottle Caps                                                                       1695 non-null   object \n",
      " 13   Q6 | Box'o'Raisins                                                                     1772 non-null   object \n",
      " 14   Q6 | Broken glow stick                                                                 1754 non-null   object \n",
      " 15   Q6 | Butterfinger                                                                      1778 non-null   object \n",
      " 16   Q6 | Cadbury Creme Eggs                                                                1777 non-null   object \n",
      " 17   Q6 | Candy Corn                                                                        1782 non-null   object \n",
      " 18   Q6 | Candy that is clearly just the stuff given out for free at restaurants            1769 non-null   object \n",
      " 19   Q6 | Caramellos                                                                        1708 non-null   object \n",
      " 20   Q6 | Cash, or other forms of legal tender                                              1780 non-null   object \n",
      " 21   Q6 | Chardonnay                                                                        1717 non-null   object \n",
      " 22   Q6 | Chick-o-Sticks (we don’t know what that is)                                       1514 non-null   object \n",
      " 23   Q6 | Chiclets                                                                          1749 non-null   object \n",
      " 24   Q6 | Coffee Crisp                                                                      1607 non-null   object \n",
      " 25   Q6 | Creepy Religious comics/Chick Tracts                                              1756 non-null   object \n",
      " 26   Q6 | Dental paraphenalia                                                               1768 non-null   object \n",
      " 27   Q6 | Dots                                                                              1731 non-null   object \n",
      " 28   Q6 | Dove Bars                                                                         1758 non-null   object \n",
      " 29   Q6 | Fuzzy Peaches                                                                     1637 non-null   object \n",
      " 30   Q6 | Generic Brand Acetaminophen                                                       1729 non-null   object \n",
      " 31   Q6 | Glow sticks                                                                       1763 non-null   object \n",
      " 32   Q6 | Goo Goo Clusters                                                                  1581 non-null   object \n",
      " 33   Q6 | Good N' Plenty                                                                    1726 non-null   object \n",
      " 34   Q6 | Gum from baseball cards                                                           1744 non-null   object \n",
      " 35   Q6 | Gummy Bears straight up                                                           1763 non-null   object \n",
      " 36   Q6 | Hard Candy                                                                        1765 non-null   object \n",
      " 37   Q6 | Healthy Fruit                                                                     1766 non-null   object \n",
      " 38   Q6 | Heath Bar                                                                         1748 non-null   object \n",
      " 39   Q6 | Hershey's Dark Chocolate                                                          1787 non-null   object \n",
      " 40   Q6 | Hershey’s Milk Chocolate                                                          1788 non-null   object \n",
      " 41   Q6 | Hershey's Kisses                                                                  1782 non-null   object \n",
      " 42   Q6 | Hugs (actual physical hugs)                                                       1747 non-null   object \n",
      " 43   Q6 | Jolly Rancher (bad flavor)                                                        1766 non-null   object \n",
      " 44   Q6 | Jolly Ranchers (good flavor)                                                      1765 non-null   object \n",
      " 45   Q6 | JoyJoy (Mit Iodine!)                                                              1434 non-null   object \n",
      " 46   Q6 | Junior Mints                                                                      1762 non-null   object \n",
      " 47   Q6 | Senior Mints                                                                      1518 non-null   object \n",
      " 48   Q6 | Kale smoothie                                                                     1716 non-null   object \n",
      " 49   Q6 | Kinder Happy Hippo                                                                1515 non-null   object \n",
      " 50   Q6 | Kit Kat                                                                           1786 non-null   object \n",
      " 51   Q6 | LaffyTaffy                                                                        1724 non-null   object \n",
      " 52   Q6 | LemonHeads                                                                        1730 non-null   object \n",
      " 53   Q6 | Licorice (not black)                                                              1774 non-null   object \n",
      " 54   Q6 | Licorice (yes black)                                                              1775 non-null   object \n",
      " 55   Q6 | Lindt Truffle                                                                     1742 non-null   object \n",
      " 56   Q6 | Lollipops                                                                         1769 non-null   object \n",
      " 57   Q6 | Mars                                                                              1735 non-null   object \n",
      " 58   Q6 | Maynards                                                                          1436 non-null   object \n",
      " 59   Q6 | Mike and Ike                                                                      1731 non-null   object \n",
      " 60   Q6 | Milk Duds                                                                         1767 non-null   object \n",
      " 61   Q6 | Milky Way                                                                         1772 non-null   object \n",
      " 62   Q6 | Regular M&Ms                                                                      1785 non-null   object \n",
      " 63   Q6 | Peanut M&M’s                                                                      1789 non-null   object \n",
      " 64   Q6 | Blue M&M's                                                                        1733 non-null   object \n",
      " 65   Q6 | Red M&M's                                                                         1731 non-null   object \n",
      " 66   Q6 | Green Party M&M's                                                                 1696 non-null   object \n",
      " 67   Q6 | Independent M&M's                                                                 1647 non-null   object \n",
      " 68   Q6 | Abstained from M&M'ing.                                                           1518 non-null   object \n",
      " 69   Q6 | Minibags of chips                                                                 1736 non-null   object \n",
      " 70   Q6 | Mint Kisses                                                                       1684 non-null   object \n",
      " 71   Q6 | Mint Juleps                                                                       1649 non-null   object \n",
      " 72   Q6 | Mr. Goodbar                                                                       1720 non-null   object \n",
      " 73   Q6 | Necco Wafers                                                                      1716 non-null   object \n",
      " 74   Q6 | Nerds                                                                             1737 non-null   object \n",
      " 75   Q6 | Nestle Crunch                                                                     1762 non-null   object \n",
      " 76   Q6 | Now'n'Laters                                                                      1643 non-null   object \n",
      " 77   Q6 | Peeps                                                                             1750 non-null   object \n",
      " 78   Q6 | Pencils                                                                           1751 non-null   object \n",
      " 79   Q6 | Pixy Stix                                                                         1738 non-null   object \n",
      " 80   Q6 | Real Housewives of Orange County Season 9 Blue-Ray                                1707 non-null   object \n",
      " 81   Q6 | Reese’s Peanut Butter Cups                                                        1781 non-null   object \n",
      " 82   Q6 | Reese's Pieces                                                                    1769 non-null   object \n",
      " 83   Q6 | Reggie Jackson Bar                                                                1446 non-null   object \n",
      " 84   Q6 | Rolos                                                                             1746 non-null   object \n",
      " 85   Q6 | Sandwich-sized bags filled with BooBerry Crunch                                   1684 non-null   object \n",
      " 86   Q6 | Skittles                                                                          1754 non-null   object \n",
      " 87   Q6 | Smarties (American)                                                               1735 non-null   object \n",
      " 88   Q6 | Smarties (Commonwealth)                                                           1559 non-null   object \n",
      " 89   Q6 | Snickers                                                                          1770 non-null   object \n",
      " 90   Q6 | Sourpatch Kids (i.e. abominations of nature)                                      1722 non-null   object \n",
      " 91   Q6 | Spotted Dick                                                                      1578 non-null   object \n",
      " 92   Q6 | Starburst                                                                         1767 non-null   object \n",
      " 93   Q6 | Sweet Tarts                                                                       1752 non-null   object \n",
      " 94   Q6 | Swedish Fish                                                                      1745 non-null   object \n",
      " 95   Q6 | Sweetums (a friend to diabetes)                                                   1458 non-null   object \n",
      " 96   Q6 | Take 5                                                                            1543 non-null   object \n",
      " 97   Q6 | Tic Tacs                                                                          1746 non-null   object \n",
      " 98   Q6 | Those odd marshmallow circus peanut things                                        1724 non-null   object \n",
      " 99   Q6 | Three Musketeers                                                                  1752 non-null   object \n",
      " 100  Q6 | Tolberone something or other                                                      1754 non-null   object \n",
      " 101  Q6 | Trail Mix                                                                         1752 non-null   object \n",
      " 102  Q6 | Twix                                                                              1770 non-null   object \n",
      " 103  Q6 | Vials of pure high fructose corn syrup, for main-lining into your vein            1668 non-null   object \n",
      " 104  Q6 | Vicodin                                                                           1671 non-null   object \n",
      " 105  Q6 | Whatchamacallit Bars                                                              1637 non-null   object \n",
      " 106  Q6 | White Bread                                                                       1703 non-null   object \n",
      " 107  Q6 | Whole Wheat anything                                                              1713 non-null   object \n",
      " 108  Q6 | York Peppermint Patties                                                           1755 non-null   object \n",
      " 109  Q7: JOY OTHER                                                                          911 non-null    object \n",
      " 110  Q8: DESPAIR OTHER                                                                      717 non-null    object \n",
      " 111  Q9: OTHER COMMENTS                                                                     386 non-null    object \n",
      " 112  Q10: DRESS                                                                             1716 non-null   object \n",
      " 113  Unnamed: 113                                                                           9 non-null      object \n",
      " 114  Q11: DAY                                                                               1735 non-null   object \n",
      " 115  Q12: MEDIA [Daily Dish]                                                                85 non-null     float64\n",
      " 116  Q12: MEDIA [Science]                                                                   1362 non-null   float64\n",
      " 117  Q12: MEDIA [ESPN]                                                                      99 non-null     float64\n",
      " 118  Q12: MEDIA [Yahoo]                                                                     67 non-null     float64\n",
      " 119  Click Coordinates (x, y)                                                               1605 non-null   object \n",
      "dtypes: float64(4), int64(1), object(115)\n",
      "memory usage: 2.3+ MB\n"
     ]
    },
    {
     "name": "stderr",
     "output_type": "stream",
     "text": [
      "<ipython-input-2-8bc86e4aa536>:3: FutureWarning: null_counts is deprecated. Use show_counts instead\n",
      "  candy.info(verbose=True, null_counts=True)\n"
     ]
    }
   ],
   "source": [
    "#get some information about data (Column name and number, data type of columns, nan value in columns)\n",
    "\n",
    "candy.info(verbose=True, null_counts=True)  "
   ]
  },
  {
   "cell_type": "code",
   "execution_count": 3,
   "metadata": {
    "scrolled": true
   },
   "outputs": [
    {
     "data": {
      "text/plain": [
       "0"
      ]
     },
     "execution_count": 3,
     "metadata": {},
     "output_type": "execute_result"
    }
   ],
   "source": [
    "#show if there dublicates value or not?\n",
    "\n",
    "candy.duplicated().sum()"
   ]
  },
  {
   "cell_type": "code",
   "execution_count": 4,
   "metadata": {},
   "outputs": [
    {
     "name": "stdout",
     "output_type": "stream",
     "text": [
      "[nan 'No' 'Yes']\n",
      "[nan 'Male' 'Female' \"I'd rather not say\" 'Other']\n",
      "[nan 'White and gold' 'Blue and black']\n",
      "[nan 'Sunday' 'Friday']\n",
      "[nan  1.]\n",
      "[nan  1.]\n",
      "[nan  1.]\n",
      "[nan  1.]\n"
     ]
    }
   ],
   "source": [
    "#make sure the 'Q1','Q2','Q10','Q11','Q12' columns all values from the same range \n",
    "\n",
    "questions_unique = candy.loc[ : ,candy.columns.str.contains('Q1|Q2|Q10|Q11|Q12')]\n",
    "for col in questions_unique:\n",
    "    print(questions_unique[col].unique())"
   ]
  },
  {
   "cell_type": "code",
   "execution_count": 5,
   "metadata": {
    "scrolled": true
   },
   "outputs": [
    {
     "data": {
      "text/plain": [
       "{nan}"
      ]
     },
     "execution_count": 5,
     "metadata": {},
     "output_type": "execute_result"
    }
   ],
   "source": [
    "#to get the the columns that belong to 'Q6' and make sure if the the all columns take the category data('JOY','MEH','DESPAIR')\n",
    "\n",
    "q6 = candy.loc[:,candy.columns.str.contains('Q6')]\n",
    "for col in q6:\n",
    "    inconsist_data = set(q6[col]).difference(list(['JOY','MEH','DESPAIR']))\n",
    "inconsist_data"
   ]
  },
  {
   "cell_type": "markdown",
   "metadata": {},
   "source": [
    "# 3- write summary about what you get form the above functions\n",
    "> #### tips : this summary can be about : if there is any missing values , if there a wrong data type , if there a wrong range of values , ...."
   ]
  },
  {
   "cell_type": "markdown",
   "metadata": {},
   "source": [
    "- The <b>all</b> columns name is not formal(have wihte space,special character and character in uppercase) so we must edit the column name to easy to access and read\n",
    "- Theae are some columns have <b>wrong data type</b> like: ('GOING OUT?' must be category, 'GENDER' must be category, 'AGE' must be integer and 'DRESS, DAY' must be category\n",
    "- All of the columns have <b>null data (missing values)</b> except the 'Internal ID' column not have a missing values\n",
    "- All columns which is supposed to be category data type have correct <b>range of values</b>\n",
    "- So far, there are <b>no duplicated</b> values"
   ]
  },
  {
   "cell_type": "markdown",
   "metadata": {},
   "source": [
    "# cleaning"
   ]
  },
  {
   "cell_type": "markdown",
   "metadata": {},
   "source": [
    "### 4- drop all the useless columns and  rows with too much NaN , \n",
    "> tip : useless columns can be like `Internal ID`and can be also columns with too much NaN \n",
    "- rename columns for easy access"
   ]
  },
  {
   "cell_type": "code",
   "execution_count": 6,
   "metadata": {},
   "outputs": [],
   "source": [
    "#drop the 'Internal ID' column\n",
    "\n",
    "candy.drop(columns = 'Internal ID', inplace = True)"
   ]
  },
  {
   "cell_type": "code",
   "execution_count": 7,
   "metadata": {
    "scrolled": true
   },
   "outputs": [
    {
     "data": {
      "text/plain": [
       "Unnamed: 113                            2451\n",
       "Q12: MEDIA [Yahoo]                      2393\n",
       "Q12: MEDIA [Daily Dish]                 2375\n",
       "Q12: MEDIA [ESPN]                       2361\n",
       "Q9: OTHER COMMENTS                      2074\n",
       "Q8: DESPAIR OTHER                       1743\n",
       "Q7: JOY OTHER                           1549\n",
       "Q12: MEDIA [Science]                    1098\n",
       "Q6 | JoyJoy (Mit Iodine!)               1026\n",
       "Q6 | Maynards                           1024\n",
       "Q6 | Reggie Jackson Bar                 1014\n",
       "Q6 | Bonkers (the board game)           1006\n",
       "Q6 | Sweetums (a friend to diabetes)    1002\n",
       "Q6 | Bonkers (the candy)                 992\n",
       "Q6 | Black Jacks                         958\n",
       "dtype: int64"
      ]
     },
     "execution_count": 7,
     "metadata": {},
     "output_type": "execute_result"
    }
   ],
   "source": [
    "#display the number of nan values\n",
    "\n",
    "numeber_nan = candy.isna().sum().sort_values(ascending = False)\n",
    "numeber_nan.head(15)"
   ]
  },
  {
   "cell_type": "code",
   "execution_count": 8,
   "metadata": {},
   "outputs": [],
   "source": [
    "#Remove columns with a lot of missing values\n",
    "\n",
    "candy_drop = candy.loc[ : , candy.isna().sum() > 1500]\n",
    "candy.drop(columns=candy_drop.columns, inplace = True)"
   ]
  },
  {
   "cell_type": "code",
   "execution_count": 9,
   "metadata": {},
   "outputs": [],
   "source": [
    "#Conversion the columns name from upper case to lower case \n",
    "\n",
    "candy.columns = candy.columns.str.lower()"
   ]
  },
  {
   "cell_type": "markdown",
   "metadata": {},
   "source": [
    "### 5 - clean `going out` column \n",
    "> tip : you should choose which best value to put in place of these NaNs ( mode, unknown,other ....etc)"
   ]
  },
  {
   "cell_type": "code",
   "execution_count": 10,
   "metadata": {},
   "outputs": [
    {
     "name": "stderr",
     "output_type": "stream",
     "text": [
      "<ipython-input-10-ac9c6719b461>:3: FutureWarning: The default value of regex will change from True to False in a future version.\n",
      "  candy.columns = candy.columns.str.replace('[q]\\d+\\W+','').str.replace('?','').str.replace(' ','_')\n",
      "<ipython-input-10-ac9c6719b461>:3: FutureWarning: The default value of regex will change from True to False in a future version. In addition, single character regular expressions will*not* be treated as literal strings when regex=True.\n",
      "  candy.columns = candy.columns.str.replace('[q]\\d+\\W+','').str.replace('?','').str.replace(' ','_')\n"
     ]
    },
    {
     "data": {
      "text/plain": [
       "Index(['going_out', 'gender', 'age', 'country', 'state,_province,_county,_etc',\n",
       "       '100_grand_bar',\n",
       "       'anonymous_brown_globs_that_come_in_black_and_orange_wrappers\\t(a.k.a._mary_janes)',\n",
       "       'any_full-sized_candy_bar', 'black_jacks', 'bonkers_(the_candy)',\n",
       "       ...\n",
       "       'vials_of_pure_high_fructose_corn_syrup,_for_main-lining_into_your_vein',\n",
       "       'vicodin', 'whatchamacallit_bars', 'white_bread',\n",
       "       'whole_wheat_anything', 'york_peppermint_patties', 'dress', 'day',\n",
       "       'media_[science]', 'click_coordinates_(x,_y)'],\n",
       "      dtype='object', length=112)"
      ]
     },
     "execution_count": 10,
     "metadata": {},
     "output_type": "execute_result"
    }
   ],
   "source": [
    "#rename the 'going out' columns and edit some columns\n",
    "\n",
    "candy.columns = candy.columns.str.replace('[q]\\d+\\W+','').str.replace('?','').str.replace(' ','_')\n",
    "candy.columns"
   ]
  },
  {
   "cell_type": "code",
   "execution_count": 11,
   "metadata": {},
   "outputs": [
    {
     "data": {
      "text/plain": [
       "35"
      ]
     },
     "execution_count": 11,
     "metadata": {},
     "output_type": "execute_result"
    }
   ],
   "source": [
    "#after dropping the 'Internal ID' column we have a 35 duplicate values\n",
    "\n",
    "candy.duplicated().sum()"
   ]
  },
  {
   "cell_type": "code",
   "execution_count": 12,
   "metadata": {},
   "outputs": [],
   "source": [
    "#we drop duplicated rows\n",
    "\n",
    "candy.drop_duplicates(inplace = True)"
   ]
  },
  {
   "cell_type": "code",
   "execution_count": 13,
   "metadata": {},
   "outputs": [
    {
     "data": {
      "text/plain": [
       "90"
      ]
     },
     "execution_count": 13,
     "metadata": {},
     "output_type": "execute_result"
    }
   ],
   "source": [
    "candy.going_out.isna().sum()"
   ]
  },
  {
   "cell_type": "code",
   "execution_count": 14,
   "metadata": {},
   "outputs": [],
   "source": [
    "candy.dropna(how = 'all', inplace = True)\n",
    "candy.reset_index(drop = True, inplace = True)"
   ]
  },
  {
   "cell_type": "code",
   "execution_count": 15,
   "metadata": {},
   "outputs": [],
   "source": [
    "candy['going_out'] = candy['going_out'].str.lower()"
   ]
  },
  {
   "cell_type": "code",
   "execution_count": 16,
   "metadata": {},
   "outputs": [],
   "source": [
    "candy['going_out'].fillna('unknown', inplace = True)"
   ]
  },
  {
   "cell_type": "code",
   "execution_count": 17,
   "metadata": {},
   "outputs": [
    {
     "data": {
      "text/plain": [
       "CategoricalDtype(categories=['no', 'unknown', 'yes'], ordered=False)"
      ]
     },
     "execution_count": 17,
     "metadata": {},
     "output_type": "execute_result"
    }
   ],
   "source": [
    "#change data type of 'going_to' column to category data type\n",
    "candy['going_out'] = candy.going_out.astype('category')\n",
    "candy['going_out'].dtype"
   ]
  },
  {
   "cell_type": "code",
   "execution_count": 18,
   "metadata": {},
   "outputs": [
    {
     "data": {
      "text/plain": [
       "no         2023\n",
       "yes         312\n",
       "unknown      89\n",
       "Name: going_out, dtype: int64"
      ]
     },
     "execution_count": 18,
     "metadata": {},
     "output_type": "execute_result"
    }
   ],
   "source": [
    "candy['going_out'].value_counts()"
   ]
  },
  {
   "cell_type": "code",
   "execution_count": 19,
   "metadata": {},
   "outputs": [
    {
     "data": {
      "text/plain": [
       "0"
      ]
     },
     "execution_count": 19,
     "metadata": {},
     "output_type": "execute_result"
    }
   ],
   "source": [
    "candy.going_out.isna().sum()"
   ]
  },
  {
   "cell_type": "markdown",
   "metadata": {},
   "source": [
    "### 6 - clean ` gender` column \n",
    "> tip : you should choose which best value to put in place of these NaNs ( mode, unknown,other ....etc)"
   ]
  },
  {
   "cell_type": "code",
   "execution_count": 20,
   "metadata": {},
   "outputs": [
    {
     "data": {
      "text/plain": [
       "17"
      ]
     },
     "execution_count": 20,
     "metadata": {},
     "output_type": "execute_result"
    }
   ],
   "source": [
    "candy['gender'].isna().sum()"
   ]
  },
  {
   "cell_type": "code",
   "execution_count": 21,
   "metadata": {},
   "outputs": [],
   "source": [
    "candy['gender'] = candy['gender'].str.lower()"
   ]
  },
  {
   "cell_type": "code",
   "execution_count": 22,
   "metadata": {},
   "outputs": [],
   "source": [
    "candy['gender'] = candy.gender.fillna(\"I'd rather not say\")"
   ]
  },
  {
   "cell_type": "code",
   "execution_count": 23,
   "metadata": {},
   "outputs": [
    {
     "data": {
      "text/plain": [
       "CategoricalDtype(categories=['I'd rather not say', 'female', 'i'd rather not say', 'male',\n",
       "                  'other'],\n",
       ", ordered=False)"
      ]
     },
     "execution_count": 23,
     "metadata": {},
     "output_type": "execute_result"
    }
   ],
   "source": [
    "candy['gender'] = candy.gender.astype('category')\n",
    "candy['gender'].dtype"
   ]
  },
  {
   "cell_type": "code",
   "execution_count": 24,
   "metadata": {},
   "outputs": [
    {
     "data": {
      "text/plain": [
       "male                  1458\n",
       "female                 838\n",
       "i'd rather not say      81\n",
       "other                   30\n",
       "I'd rather not say      17\n",
       "Name: gender, dtype: int64"
      ]
     },
     "execution_count": 24,
     "metadata": {},
     "output_type": "execute_result"
    }
   ],
   "source": [
    "candy['gender'].value_counts()"
   ]
  },
  {
   "cell_type": "code",
   "execution_count": 25,
   "metadata": {},
   "outputs": [
    {
     "data": {
      "text/plain": [
       "0"
      ]
     },
     "execution_count": 25,
     "metadata": {},
     "output_type": "execute_result"
    }
   ],
   "source": [
    "candy['gender'].isna().sum()"
   ]
  },
  {
   "cell_type": "markdown",
   "metadata": {},
   "source": [
    "### 7 - clean ` age` column \n",
    "> tip : note the type of age column , and NaN values\n",
    " - try to use `to_numeric` \n",
    " - tip : you should choose which best value to put in place of these NaNs ( mean, median, ....etc)"
   ]
  },
  {
   "cell_type": "code",
   "execution_count": 26,
   "metadata": {},
   "outputs": [
    {
     "data": {
      "text/plain": [
       "array([44, 49, 40, 23, nan, 53, 33, 43, 56, 64, 37, 59, 48, 54, 36, 45,\n",
       "       25, 34, 35, 38, 58, 50, 47, 16, 52, 63, 65, 41, 27, 31, 61, 46, 42,\n",
       "       62, 29, 39, 32, 28, 69, 67, 30, 22, 26, 51, 70, 24, 18, 19,\n",
       "       'Old enough', 57, 60, 66, 12, 'Many', 55, 72, '?', 21, 11, 'no', 9,\n",
       "       68, 20, 6, 10, 71, 90, 13, '45-55', 312, 99, 7, 'hahahahaha', 88,\n",
       "       39.4, 74, 102, 'older than dirt', 17, 15, 8, 75, '5u', 'Enough',\n",
       "       'See question 2', '24-50', 14, 'Over 50', 100, 76, 1000,\n",
       "       'sixty-nine', '46 Halloweens.', 'ancient', 77, 'OLD', 'old', 73,\n",
       "       70.5, 1, 'MY NAME JEFF', 4, '59 on the day after Halloween',\n",
       "       'old enough', 'your mom',\n",
       "       'I can remember when Java was a cool new language', '60+'],\n",
       "      dtype=object)"
      ]
     },
     "execution_count": 26,
     "metadata": {},
     "output_type": "execute_result"
    }
   ],
   "source": [
    "candy.age.unique()"
   ]
  },
  {
   "cell_type": "code",
   "execution_count": 27,
   "metadata": {
    "scrolled": false
   },
   "outputs": [
    {
     "data": {
      "text/plain": [
       "array([  44. ,   49. ,   40. ,   23. ,    nan,   53. ,   33. ,   43. ,\n",
       "         56. ,   64. ,   37. ,   59. ,   48. ,   54. ,   36. ,   45. ,\n",
       "         25. ,   34. ,   35. ,   38. ,   58. ,   50. ,   47. ,   16. ,\n",
       "         52. ,   63. ,   65. ,   41. ,   27. ,   31. ,   61. ,   46. ,\n",
       "         42. ,   62. ,   29. ,   39. ,   32. ,   28. ,   69. ,   67. ,\n",
       "         30. ,   22. ,   26. ,   51. ,   70. ,   24. ,   18. ,   19. ,\n",
       "         57. ,   60. ,   66. ,   12. ,   55. ,   72. ,   21. ,   11. ,\n",
       "          9. ,   68. ,   20. ,    6. ,   10. ,   71. ,   90. ,   13. ,\n",
       "        312. ,   99. ,    7. ,   88. ,   39.4,   74. ,  102. ,   17. ,\n",
       "         15. ,    8. ,   75. ,   14. ,  100. ,   76. , 1000. ,   77. ,\n",
       "         73. ,   70.5,    1. ,    4. ])"
      ]
     },
     "execution_count": 27,
     "metadata": {},
     "output_type": "execute_result"
    }
   ],
   "source": [
    "candy['age'] = pd.to_numeric(candy.age, downcast='integer' ,errors='coerce')\n",
    "candy['age'].unique()"
   ]
  },
  {
   "cell_type": "code",
   "execution_count": 28,
   "metadata": {
    "scrolled": true
   },
   "outputs": [
    {
     "data": {
      "text/plain": [
       "dtype('int32')"
      ]
     },
     "execution_count": 28,
     "metadata": {},
     "output_type": "execute_result"
    }
   ],
   "source": [
    "#we first replace nan value with 0 because this error \"Cannot convert non-finite values (NA or inf) to integer\" then convert \n",
    "#data types from float to integer \n",
    "\n",
    "candy['age'].fillna(0, inplace = True)\n",
    "candy['age'] = candy['age'].astype('int32')\n",
    "candy['age'].dtypes"
   ]
  },
  {
   "cell_type": "code",
   "execution_count": 29,
   "metadata": {},
   "outputs": [],
   "source": [
    "candy.loc[candy['age'] > 102, ['age']] = 0\n",
    "candy.loc[candy['age'] < 5, ['age']] = 0"
   ]
  },
  {
   "cell_type": "code",
   "execution_count": 30,
   "metadata": {},
   "outputs": [
    {
     "data": {
      "text/plain": [
       "82"
      ]
     },
     "execution_count": 30,
     "metadata": {},
     "output_type": "execute_result"
    }
   ],
   "source": [
    "(candy['age'] == 0).sum()"
   ]
  },
  {
   "cell_type": "code",
   "execution_count": 31,
   "metadata": {},
   "outputs": [
    {
     "data": {
      "text/plain": [
       "count    2424.000000\n",
       "mean       40.705446\n",
       "std        14.136060\n",
       "min         0.000000\n",
       "25%        33.000000\n",
       "50%        41.000000\n",
       "75%        49.000000\n",
       "max       102.000000\n",
       "Name: age, dtype: float64"
      ]
     },
     "execution_count": 31,
     "metadata": {},
     "output_type": "execute_result"
    }
   ],
   "source": [
    "candy['age'].describe()"
   ]
  },
  {
   "cell_type": "code",
   "execution_count": 32,
   "metadata": {},
   "outputs": [],
   "source": [
    "candy.loc[candy['age'] == 0, ['age']] = candy.age.mean()"
   ]
  },
  {
   "cell_type": "markdown",
   "metadata": {},
   "source": [
    "### 8 - clean ` country` column\n",
    "> tip : note that country column has country names with different writing ways \n",
    "  - use fuzzywuzzy to deal with this problem\n",
    "  - you should choose which best value to put in place of these NaNs ( mode, unknown,other ....etc)"
   ]
  },
  {
   "cell_type": "code",
   "execution_count": 33,
   "metadata": {},
   "outputs": [
    {
     "data": {
      "text/plain": [
       "array(['USA ', 'USA', 'us', 'usa', nan, 'canada', 'Canada', 'Us', 'US',\n",
       "       'Murica', 'United States', 'uk', 'United Kingdom', 'united states',\n",
       "       'Usa', 'United States ', 'United staes',\n",
       "       'United States of America', 'UAE', 'England', 'UK', 'canada ',\n",
       "       'Mexico', 'United states', 'u.s.a.', 'USAUSAUSA', 'america', 35,\n",
       "       'france', 'United States of America ', 'U.S.A.', 'finland',\n",
       "       'unhinged states', 'Canada ', 'united states of america',\n",
       "       'US of A', 'Unites States', 'The United States', 'North Carolina ',\n",
       "       'Unied States', 'Netherlands', 'germany', 'Europe', 'Earth', 'U S',\n",
       "       'u.s.', 'U.K. ', 'Costa Rica', 'The United States of America',\n",
       "       'unite states', 'U.S.', 46, 'cascadia', 'Australia',\n",
       "       'insanity lately', 'Greece', 'USA? Hard to tell anymore..',\n",
       "       \"'merica\", 'usas', 'Pittsburgh', 45, 'United State', 32, 'France',\n",
       "       'australia', 'A', 'Can', 'Canae', 'New York', 'Trumpistan',\n",
       "       'Ireland', 'United Sates', 'Korea', 'California', 'Japan', 'USa',\n",
       "       'South africa',\n",
       "       'I pretend to be from Canada, but I am really from the United States.',\n",
       "       'Usa ', 'Uk', 'Iceland', 'Germany', 'Canada`', 'Scotland', 'UK ',\n",
       "       'Denmark', 'United Stated', 'France ', 'Switzerland',\n",
       "       'Ahem....Amerca', 'UD', 'Scotland ', 'South Korea', 'New Jersey',\n",
       "       'CANADA', 'Indonesia', 'United ststes', 'America',\n",
       "       'The Netherlands', 'United Statss', 'endland', 'Atlantis',\n",
       "       'murrika', 'USA! USA! USA!', 'USAA', 'Alaska', 'united States ',\n",
       "       'soviet canuckistan', 'N. America', 'Singapore', 'USSA', 'China',\n",
       "       'Taiwan', 'Ireland ', 'hong kong', 'spain', 'Sweden', 'Hong Kong',\n",
       "       'U.S. ', 'Narnia', 'u s a', 'United Statea', 'united ststes', 1,\n",
       "       'subscribe to dm4uz3 on youtube', 'United kingdom',\n",
       "       'USA USA USA!!!!', \"I don't know anymore\", 'Fear and Loathing'],\n",
       "      dtype=object)"
      ]
     },
     "execution_count": 33,
     "metadata": {},
     "output_type": "execute_result"
    }
   ],
   "source": [
    "candy.country.unique()"
   ]
  },
  {
   "cell_type": "code",
   "execution_count": 34,
   "metadata": {},
   "outputs": [
    {
     "name": "stderr",
     "output_type": "stream",
     "text": [
      "C:\\Users\\HP\\anaconda3\\lib\\site-packages\\fuzzywuzzy\\fuzz.py:11: UserWarning: Using slow pure-python SequenceMatcher. Install python-Levenshtein to remove this warning\n",
      "  warnings.warn('Using slow pure-python SequenceMatcher. Install python-Levenshtein to remove this warning')\n"
     ]
    }
   ],
   "source": [
    "from fuzzywuzzy import process"
   ]
  },
  {
   "cell_type": "code",
   "execution_count": 35,
   "metadata": {},
   "outputs": [],
   "source": [
    "country = pd.Series(['united_states','america','usa','australia','ireland','united_kingdom', 'uk','scotland','korea',\n",
    "          'atlantis','china_hong_kong','spain','taiwan','greece','germany','netherlands','singapore','sweden','iately'])"
   ]
  },
  {
   "cell_type": "code",
   "execution_count": 36,
   "metadata": {},
   "outputs": [],
   "source": [
    "for state in country:\n",
    "    matches = process.extract(state, candy['country'], limit = candy.shape[0])\n",
    "    for potential_match in matches:\n",
    "        if potential_match[1] >= 60:\n",
    "            candy.loc[candy['country'] == potential_match[0], 'country'] = state"
   ]
  },
  {
   "cell_type": "code",
   "execution_count": 37,
   "metadata": {
    "scrolled": true
   },
   "outputs": [],
   "source": [
    "candy['country'] = candy.country.str.lower()"
   ]
  },
  {
   "cell_type": "code",
   "execution_count": 38,
   "metadata": {},
   "outputs": [
    {
     "data": {
      "text/plain": [
       "array(['taiwan', nan, 'canada', 'america', 'uk', 'united_kingdom',\n",
       "       'netherlands', 'canada ', 'france', 'north carolina ', 'germany',\n",
       "       'europe', 'earth', 'greece', 'pittsburgh', 'canae', 'new york',\n",
       "       'singapore', 'california', 'spain', 'canada`', 'scotland',\n",
       "       'denmark', 'france ', 'ud', 'new jersey', 'atlantis', 'murrika',\n",
       "       'china_hong_kong', 'sweden', 'subscribe to dm4uz3 on youtube',\n",
       "       'fear and loathing'], dtype=object)"
      ]
     },
     "execution_count": 38,
     "metadata": {},
     "output_type": "execute_result"
    }
   ],
   "source": [
    "candy.country.unique()"
   ]
  },
  {
   "cell_type": "code",
   "execution_count": 39,
   "metadata": {},
   "outputs": [],
   "source": [
    "candy['country'] = candy['country'].str.replace('ud','uk').str.replace('new york','united_states')\n",
    "candy['country'] = candy['country'].str.replace(' ','').str.replace('`','')"
   ]
  },
  {
   "cell_type": "code",
   "execution_count": 40,
   "metadata": {},
   "outputs": [],
   "source": [
    "candy['country'] = candy['country'].str.replace('subscribetodm4uz3onyoutube', 'nan')"
   ]
  },
  {
   "cell_type": "code",
   "execution_count": 41,
   "metadata": {},
   "outputs": [
    {
     "data": {
      "text/plain": [
       "array(['taiwan', nan, 'canada', 'america', 'uk', 'united_kingdom',\n",
       "       'netherlands', 'france', 'northcarolina', 'germany', 'europe',\n",
       "       'earth', 'greece', 'pittsburgh', 'canae', 'united_states',\n",
       "       'singapore', 'california', 'spain', 'scotland', 'denmark',\n",
       "       'newjersey', 'atlantis', 'murrika', 'china_hong_kong', 'sweden',\n",
       "       'nan', 'fearandloathing'], dtype=object)"
      ]
     },
     "execution_count": 41,
     "metadata": {},
     "output_type": "execute_result"
    }
   ],
   "source": [
    "candy.country.unique()"
   ]
  },
  {
   "cell_type": "code",
   "execution_count": 42,
   "metadata": {},
   "outputs": [
    {
     "data": {
      "text/plain": [
       "39"
      ]
     },
     "execution_count": 42,
     "metadata": {},
     "output_type": "execute_result"
    }
   ],
   "source": [
    "candy.country.isna().sum()"
   ]
  },
  {
   "cell_type": "code",
   "execution_count": 43,
   "metadata": {
    "scrolled": true
   },
   "outputs": [
    {
     "data": {
      "text/plain": [
       "count       2385\n",
       "unique        27\n",
       "top       taiwan\n",
       "freq        2043\n",
       "Name: country, dtype: object"
      ]
     },
     "execution_count": 43,
     "metadata": {},
     "output_type": "execute_result"
    }
   ],
   "source": [
    "candy['country'].describe()"
   ]
  },
  {
   "cell_type": "code",
   "execution_count": 44,
   "metadata": {},
   "outputs": [],
   "source": [
    "#fill wth the most frequant\n",
    "\n",
    "candy['country'] = candy.country.fillna('taiwan')\n"
   ]
  },
  {
   "cell_type": "markdown",
   "metadata": {},
   "source": [
    "### 9 - clean ` area` column\n",
    "> tip : area column has the same problem as country columns , but looking at all it's unique values may give us another way to deal with it rather than try to fix it"
   ]
  },
  {
   "cell_type": "code",
   "execution_count": 45,
   "metadata": {},
   "outputs": [],
   "source": [
    "candy.columns = candy.columns.str.replace('state,_province,_county,_etc','state')"
   ]
  },
  {
   "cell_type": "code",
   "execution_count": 46,
   "metadata": {},
   "outputs": [
    {
     "data": {
      "text/plain": [
       "array(['NM', 'Virginia', 'or', 'exton pa', nan, 'Colorado ', 'ontario',\n",
       "       'Ontario', 'Wa', 'Quebec', 'NY', 'California', 'Texas', 'NEW YORK',\n",
       "       'CO', 'IN', 'MN', 'aberdeenshire', 'Alberta', 'Wisconsin, 53705',\n",
       "       'RI', 'NC', 'Scotland', 'minnesota', 'Michigan', 'Florida',\n",
       "       'New Jersey', 'VA', 'Colorado', 'Los Angeles, California', 'CA',\n",
       "       'New York ', 'Chicago, Illinois', 'Nj', 'Wisconsin', 'Minnesota ',\n",
       "       'London', 'mn', 'TEXAS', 'Illinois', 'District of Columbia',\n",
       "       'Washington', 'Massachusetts ', 'OR', 'Montana', 'New York',\n",
       "       'massachusetts', 'Abu Dhabi', 'TX', 'Arizona', 'Dc', 'yukon',\n",
       "       'Pennsylvania ', 'MD', 'Ohio', 'Alberta ', 'OXFORDSHIRE', 'DC',\n",
       "       'Iowa', 'Mn', 'TN', 'BC', 'Maryland', 'MI', 'Wisconsin ', 'alaska',\n",
       "       'Ny', 'Colorado, Jefferson county ', 'Louisiana', 'pa',\n",
       "       'CO, Larimer County', 'Nebraska ', 'Oregon', 'UT', 'ny',\n",
       "       'Pennsylvania', 'CDMX', 'north carolina', 'Tennessee ', 'Texas ',\n",
       "       'Knox county, Tennessee', 'New Mexico', 'Maine', 'maine',\n",
       "       'Virginia, Arlington', 'WA', 'MO', 'Illinois ', 'Mi', 'MA',\n",
       "       'Alaska', 'New York, NY', 'Il', 'PA', 'New Hampshire ',\n",
       "       'Washington ', 'Massachusetts', 'Georgia', 'IL', 'Oregon ',\n",
       "       'Washington, Clark ', 'NE', 'Oklahoma', 'SC', 'Nebraska', 'mi',\n",
       "       'Nevada', 'va', 'California ', 'vancouver, bc',\n",
       "       'Oregon - but will be in Washington for Halloween', 'Ri',\n",
       "       'Washington, King', 'Ca', 'wa', 'md', 'new york', 'Rhode island',\n",
       "       'VT, Chittenden', 'North Carolina', 'pennsylvania', 'PEnnsylvania',\n",
       "       'Alabama', 'GA', 'FL, Orange County', 'Nope', 'manitoba',\n",
       "       'colorado', 'california ', 'South Carolina', 'california',\n",
       "       'Baja California', 'illinois', 'Santa Cruz County, California',\n",
       "       'MARYLAND', 'NJ', 'North Dakota',\n",
       "       'Pennsylvania, Montgomery County', 'Astoria NY', 'Michigan ', 'ca',\n",
       "       'Kansas ', 'sk', 'Missouri', 'Oxfordshire', 'British Columbia',\n",
       "       'West Virginia', 'Harris County, Texas', 'USA ', 'ohio', 'ma',\n",
       "       'nc', 'Minnesota', 'Bc', 'oregon', 'philadelphia', 'Kentucky',\n",
       "       'HI', 'South Holland', 'Derbyshire', 'hesse',\n",
       "       'Massachusetts, Plymouth county', 'hi', 'Co', 'Cali', 'vt',\n",
       "       'CA, Alameda', 'Utah', 'FL', 'Michigan, Shiawassee County',\n",
       "       'Newfoundland', 'Indiana', 'wisconsin', 'Idaho ada', 'La',\n",
       "       'America', 'Hawaii', 'California, Alameda', 'Az', 'VT', 'AZ',\n",
       "       'Sub Earth', 'North dakota', 'virginia', 'Ga',\n",
       "       'alameda county, california', 'Greater London', 'bc', 'nm', 'AB',\n",
       "       'WV, Kanawha County ', 'michigan', 'Florida ', 'tx',\n",
       "       'Washington State', 'Sussex', 48, 'Washington, King County',\n",
       "       'San Jose', 'florida', 'Connecticut', 'New Jersey ', 'Orlando, FL',\n",
       "       'ON', 'Saskatchewan', 'South Carolina ', 'texas', 'newfoundland',\n",
       "       'mississippi', 'Oklahoma ', 'washington', 'Manitoba ',\n",
       "       'Manchester', 'cascadia', 'in', 'rhode island', 'Ohio ', 'Pa',\n",
       "       'FL ', 'Ut', 'Sydney ', 'CT',\n",
       "       'oblivion if things keep going this way', 'connecticut',\n",
       "       'British Columbia ', 'Nunya, Bizness, USA', 'OH',\n",
       "       'Washington state', 'Oakland, California',\n",
       "       'Washington, Seattle, king', 'Ontario,  Canada', 'ri',\n",
       "       'phoenix, maricopa county, arizona', 'Merlin', 'NS',\n",
       "       'Washington state, Kitsap County', 'cailifornia', 'oakland,ca',\n",
       "       'QC', 'USA', 'Missouri ', 'Pittsburgh pa',\n",
       "       'Issaquah, WA, King County ', 'Washington, seattle, king',\n",
       "       'Massachussets ', 'Whatcom County, WA', 'Mt', 'NH', 'Michigin',\n",
       "       'Ma', 'KS', 'Oakland County, Michigan', 'Albeqrrta', 'Marne',\n",
       "       'Noord-Holland', 'Tennessee, Knox County', 'Henrico, VA',\n",
       "       'Washington State, King County, City of Seattle', 'Washington, DC',\n",
       "       'nyc', 'Brooklyn', 'qld', 'Santa Barbara co. California',\n",
       "       'Maryland ', 'Ky', 'New Orleans la ', 'colorado, boulder', 'mo',\n",
       "       'COLORADO', 'Nh', 'Greater Manchester', 'Fife, Scotland', 'A',\n",
       "       'Kalamazoo County, MI', 'OREGON', 'Wi', 'Ontario ', 'wv',\n",
       "       'ulster county, NY', 'NJ, Gloucester', 'calif', 'Or', 'tn', 'MS',\n",
       "       'NB', 'Queens', 'Vermont', 'Kildare', 'Vermont ', 'ND',\n",
       "       'tennessee', 'Washington DC', 'Kings, New York ', 'Cook',\n",
       "       'Toronto, Ontario', 'Victoria', 'Virginia ', 'On', 'nova scotia',\n",
       "       'Tehama', 'suffolk county ny', 'Santa Clara County, California',\n",
       "       'louisiana', 'SD', 'Md', 'Missoure', 'IA',\n",
       "       'Colorado larimer county', 'Tokyo', 'New Mexico, USA', 'ont',\n",
       "       'Califor', 'Idaho', 'Kansas', 'NV', 'Brooklyn, kings county ny',\n",
       "       'King County, Washington', 'WI', 'Washington, Island county',\n",
       "       'KwaZulu-Natal', 'Carver county, MN', 'DUTCHESS COUNTY NY', 'Ny ',\n",
       "       'Wyoming ', 'Bristol ', 'british columbia',\n",
       "       'California, San Francisco', 'Glendora, Los Angeles, California',\n",
       "       'Edinburgh', 'Strathclyde', 'Lancasire', 'Ørbæk', 'pr', 'Idf',\n",
       "       'Zuid Holland', 'Osaka', 'Surrey', 'Northern ireland', 'Vaud',\n",
       "       'Arizona ', 'Nova Scotia', 'az', 'see question 2', 'Midlothian',\n",
       "       'Tennessee', 'Durham County, North Carolina',\n",
       "       'Missouri, Miller County', 'Glasgow ', 'ct',\n",
       "       'Cuyahoga County, Ohio', 'Seoul', 'Canada', 'Kanagawa ',\n",
       "       'The Shore', 'Manitoba', 'MD ', 'Devonshire', 'Utah ', 'Tx.',\n",
       "       'maryland', 'PENNSYLVANIA', 'ONTARIO', 'Jakarta', 'kansas',\n",
       "       'Mannheim, Baden-Württemberg ', '|NC', 'Wyoming', 'Rotterdam',\n",
       "       'Ar', 'Arkansas', 'renton,wa ', 'N-Brabant', 'missouri',\n",
       "       'Georgia ', 'Greifswald', 'ar', 'British Columbia, Canada', 'kent',\n",
       "       'Hessen', 'Kentucky ', 'NOYB', 'New york', 'South Dakota',\n",
       "       'Emerald City, Petrolia', 'New York, New York', 'wa, spokane',\n",
       "       'new york ', 'Buncombe County, North Carolina',\n",
       "       'California, San Diego', 'new hampshire',\n",
       "       'California, Ventura County', 'NY, Tompkins County', 'Nj ',\n",
       "       'Arlington, VA', 'Glasgow', 'kentucky', 'alberta', 'Philadelphia',\n",
       "       'Portland, maine', 'sc', 'nh', 'NSW', 'califormia', 'New jersey',\n",
       "       'montana', 'indiana ', 'Mexico city', 'GA - Georgia', 'il', 'WV',\n",
       "       'Oregon, Multnomah County', 'Vancouver, Wa', 'Nc', 'Atlanta, GA',\n",
       "       'Washington state ', 'Singapore', 'west virginia',\n",
       "       'North carolina', 'KY', 'United States', 'Mo', 'Colorado (CO)',\n",
       "       'Fl', 'wyoming', 'Nm', 'Dona Ana county, New Mexico',\n",
       "       'UT, Salt Lake', 'Ks',\n",
       "       'California, Contra Costa County, Pleasant Hill',\n",
       "       'Shanghai, Chang Ning district ', 'Vt', 'Monroe county',\n",
       "       'Hong Kong', 'Washingto', 'Dublin ',\n",
       "       'California, Mendocino County', 'na', 'madrid', 'Hesse',\n",
       "       'Noord-Brabant', 'Skane', 'Zürich', 'Tree Town, USA',\n",
       "       'New Hampshire', 'Philadelphia, PA',\n",
       "       'Bristol County, Rhode Island', 'georgia',\n",
       "       'Newfoundland and Labrador', 'Dublin', 'Oshawa, Ontario, Canada',\n",
       "       'NL', 'DC ', 'oklahoma', 'NJ; Essex', 'Va', 'Delaware', 'Mich',\n",
       "       'Ia', 'Québec', 'orange county, ca', 'BERKELEY, CA',\n",
       "       'California, USA', 'NYC', 'St. Louis County, Missouri', 'Munster',\n",
       "       'Chicago, IL', 'Philadelphia PA', 'Rappahannock County, VA', 'OK',\n",
       "       'Chicago, IL ', 'Mexico City', 'dc', 'Illinois  ', 'WASHINGTON DC',\n",
       "       'Tn', 'Connecticut ', 'ill', 'Idaho ', 'Stockholm',\n",
       "       'New York County, New York City, New York State', 'Chicago',\n",
       "       'West Yorkshire', 'Berlin', 'arlington, va', 1, 'ur mom',\n",
       "       'Alaska, Matanuska-Susitna Borough', 'utah', 'Marietta, GA',\n",
       "       'Northbrook, IL', 'delaware', 'Tx', 'Ont',\n",
       "       'Northampton County, PA', 'Rhode Island',\n",
       "       'Pa.   Northampton county', 'California, San Diego county',\n",
       "       'Bloomington, IN', 'indiana', 'Quenec', 'Londom', 'nj',\n",
       "       'st. augustine florida', 'illinois ', 'iowa',\n",
       "       \"The Democratic People's Republic of North Carolina\", 'SC ',\n",
       "       'pennsylvania, northampton couny, easton', 'St Louis mo', 'mt',\n",
       "       'Psychotic', 'québec'], dtype=object)"
      ]
     },
     "execution_count": 46,
     "metadata": {},
     "output_type": "execute_result"
    }
   ],
   "source": [
    "candy['state'].unique()"
   ]
  },
  {
   "cell_type": "code",
   "execution_count": 47,
   "metadata": {},
   "outputs": [
    {
     "data": {
      "text/plain": [
       "count           2354\n",
       "unique           511\n",
       "top       California\n",
       "freq             131\n",
       "Name: state, dtype: object"
      ]
     },
     "execution_count": 47,
     "metadata": {},
     "output_type": "execute_result"
    }
   ],
   "source": [
    "candy['state'].describe()"
   ]
  },
  {
   "cell_type": "code",
   "execution_count": 48,
   "metadata": {},
   "outputs": [
    {
     "data": {
      "text/plain": [
       "70"
      ]
     },
     "execution_count": 48,
     "metadata": {},
     "output_type": "execute_result"
    }
   ],
   "source": [
    "candy['state'].isna().sum()"
   ]
  },
  {
   "cell_type": "code",
   "execution_count": 49,
   "metadata": {},
   "outputs": [],
   "source": [
    "# i drop because have a lot of wrong data\n",
    "candy = candy.drop('state', axis=1)"
   ]
  },
  {
   "cell_type": "markdown",
   "metadata": {},
   "source": [
    "### 10 - clean ` Q6` columns\n",
    ">- tip : Q6 has all kinds of chocolate bars and questions with three distinct options to choose from (Joy, Meh, Despair).\n",
    "- so all the column that has Q6 is a candy name , so you should go through all these column and you should choose which best value to put in place of these NaNs ( mode, unknown,other ....etc)"
   ]
  },
  {
   "cell_type": "code",
   "execution_count": 50,
   "metadata": {},
   "outputs": [],
   "source": [
    "q6 = candy.iloc[: , 5:108]\n",
    "q6 = q6.fillna('MEH')\n",
    "candy.iloc[: , 5:108] = q6"
   ]
  },
  {
   "cell_type": "markdown",
   "metadata": {},
   "source": [
    "### 11 - clean ` dress` column\n",
    ">tip : you should choose which best value to put in place of these NaNs ( mode, unknown,other ....etc)"
   ]
  },
  {
   "cell_type": "code",
   "execution_count": 51,
   "metadata": {},
   "outputs": [
    {
     "data": {
      "text/plain": [
       "CategoricalDtype(categories=['Blue and black', 'MEH', 'White and gold'], ordered=False)"
      ]
     },
     "execution_count": 51,
     "metadata": {},
     "output_type": "execute_result"
    }
   ],
   "source": [
    "candy['dress'] = candy.dress.astype('category')\n",
    "candy['dress'].dtype"
   ]
  },
  {
   "cell_type": "code",
   "execution_count": 52,
   "metadata": {},
   "outputs": [
    {
     "data": {
      "text/plain": [
       "count               2424\n",
       "unique                 3\n",
       "top       White and gold\n",
       "freq                1081\n",
       "Name: dress, dtype: object"
      ]
     },
     "execution_count": 52,
     "metadata": {},
     "output_type": "execute_result"
    }
   ],
   "source": [
    "candy.dress.describe()"
   ]
  },
  {
   "cell_type": "code",
   "execution_count": 53,
   "metadata": {
    "scrolled": true
   },
   "outputs": [
    {
     "data": {
      "text/plain": [
       "['White and gold', 'MEH', 'Blue and black']\n",
       "Categories (3, object): ['White and gold', 'MEH', 'Blue and black']"
      ]
     },
     "execution_count": 53,
     "metadata": {},
     "output_type": "execute_result"
    }
   ],
   "source": [
    "candy.dress.unique()"
   ]
  },
  {
   "cell_type": "code",
   "execution_count": 54,
   "metadata": {},
   "outputs": [],
   "source": [
    "candy.dress = candy.dress.fillna('Blue and black')"
   ]
  },
  {
   "cell_type": "markdown",
   "metadata": {},
   "source": [
    "### 12 - clean ` day` column\n",
    ">tip : you should choose which best value to put in place of these NaNs ( mode, unknown,other ....etc)"
   ]
  },
  {
   "cell_type": "code",
   "execution_count": 55,
   "metadata": {},
   "outputs": [
    {
     "data": {
      "text/plain": [
       "CategoricalDtype(categories=['Friday', 'Sunday'], ordered=False)"
      ]
     },
     "execution_count": 55,
     "metadata": {},
     "output_type": "execute_result"
    }
   ],
   "source": [
    "candy['day'] = candy.day.astype('category')\n",
    "candy['day'].dtype"
   ]
  },
  {
   "cell_type": "code",
   "execution_count": 56,
   "metadata": {},
   "outputs": [
    {
     "data": {
      "text/plain": [
       "count       1735\n",
       "unique         2\n",
       "top       Friday\n",
       "freq        1091\n",
       "Name: day, dtype: object"
      ]
     },
     "execution_count": 56,
     "metadata": {},
     "output_type": "execute_result"
    }
   ],
   "source": [
    "candy['day'].describe()"
   ]
  },
  {
   "cell_type": "code",
   "execution_count": 57,
   "metadata": {},
   "outputs": [],
   "source": [
    "candy.day = candy.day.fillna('Friday')"
   ]
  },
  {
   "cell_type": "markdown",
   "metadata": {},
   "source": [
    "### 13 - check\n",
    "> after finish cleaning you should make sure your data is clean and that :\n",
    "- there is no wrong data type\n",
    "- there is no NaN values \n",
    "- all the column are cleaing and ready for the next step `EDA`"
   ]
  },
  {
   "cell_type": "code",
   "execution_count": 58,
   "metadata": {},
   "outputs": [],
   "source": [
    "candy = candy.drop('media_[science]', axis=1)"
   ]
  },
  {
   "cell_type": "code",
   "execution_count": 59,
   "metadata": {
    "scrolled": true
   },
   "outputs": [
    {
     "name": "stdout",
     "output_type": "stream",
     "text": [
      "<class 'pandas.core.frame.DataFrame'>\n",
      "RangeIndex: 2424 entries, 0 to 2423\n",
      "Data columns (total 110 columns):\n",
      " #    Column                                                                            Non-Null Count  Dtype   \n",
      "---   ------                                                                            --------------  -----   \n",
      " 0    going_out                                                                         2424 non-null   category\n",
      " 1    gender                                                                            2424 non-null   category\n",
      " 2    age                                                                               2424 non-null   float64 \n",
      " 3    country                                                                           2424 non-null   object  \n",
      " 4    100_grand_bar                                                                     1713 non-null   object  \n",
      " 5    anonymous_brown_globs_that_come_in_black_and_orange_wrappers\t(a.k.a._mary_janes)  2424 non-null   object  \n",
      " 6    any_full-sized_candy_bar                                                          2424 non-null   object  \n",
      " 7    black_jacks                                                                       2424 non-null   object  \n",
      " 8    bonkers_(the_candy)                                                               2424 non-null   object  \n",
      " 9    bonkers_(the_board_game)                                                          2424 non-null   object  \n",
      " 10   bottle_caps                                                                       2424 non-null   object  \n",
      " 11   box'o'raisins                                                                     2424 non-null   object  \n",
      " 12   broken_glow_stick                                                                 2424 non-null   object  \n",
      " 13   butterfinger                                                                      2424 non-null   object  \n",
      " 14   cadbury_creme_eggs                                                                2424 non-null   object  \n",
      " 15   candy_corn                                                                        2424 non-null   object  \n",
      " 16   candy_that_is_clearly_just_the_stuff_given_out_for_free_at_restaurants            2424 non-null   object  \n",
      " 17   caramellos                                                                        2424 non-null   object  \n",
      " 18   cash,_or_other_forms_of_legal_tender                                              2424 non-null   object  \n",
      " 19   chardonnay                                                                        2424 non-null   object  \n",
      " 20   chick-o-sticks_(we_don’t_know_what_that_is)                                       2424 non-null   object  \n",
      " 21   chiclets                                                                          2424 non-null   object  \n",
      " 22   coffee_crisp                                                                      2424 non-null   object  \n",
      " 23   creepy_religious_comics/chick_tracts                                              2424 non-null   object  \n",
      " 24   dental_paraphenalia                                                               2424 non-null   object  \n",
      " 25   dots                                                                              2424 non-null   object  \n",
      " 26   dove_bars                                                                         2424 non-null   object  \n",
      " 27   fuzzy_peaches                                                                     2424 non-null   object  \n",
      " 28   generic_brand_acetaminophen                                                       2424 non-null   object  \n",
      " 29   glow_sticks                                                                       2424 non-null   object  \n",
      " 30   goo_goo_clusters                                                                  2424 non-null   object  \n",
      " 31   good_n'_plenty                                                                    2424 non-null   object  \n",
      " 32   gum_from_baseball_cards                                                           2424 non-null   object  \n",
      " 33   gummy_bears_straight_up                                                           2424 non-null   object  \n",
      " 34   hard_candy                                                                        2424 non-null   object  \n",
      " 35   healthy_fruit                                                                     2424 non-null   object  \n",
      " 36   heath_bar                                                                         2424 non-null   object  \n",
      " 37   hershey's_dark_chocolate                                                          2424 non-null   object  \n",
      " 38   hershey’s_milk_chocolate                                                          2424 non-null   object  \n",
      " 39   hershey's_kisses                                                                  2424 non-null   object  \n",
      " 40   hugs_(actual_physical_hugs)                                                       2424 non-null   object  \n",
      " 41   jolly_rancher_(bad_flavor)                                                        2424 non-null   object  \n",
      " 42   jolly_ranchers_(good_flavor)                                                      2424 non-null   object  \n",
      " 43   joyjoy_(mit_iodine!)                                                              2424 non-null   object  \n",
      " 44   junior_mints                                                                      2424 non-null   object  \n",
      " 45   senior_mints                                                                      2424 non-null   object  \n",
      " 46   kale_smoothie                                                                     2424 non-null   object  \n",
      " 47   kinder_happy_hippo                                                                2424 non-null   object  \n",
      " 48   kit_kat                                                                           2424 non-null   object  \n",
      " 49   laffytaffy                                                                        2424 non-null   object  \n",
      " 50   lemonheads                                                                        2424 non-null   object  \n",
      " 51   licorice_(not_black)                                                              2424 non-null   object  \n",
      " 52   licorice_(yes_black)                                                              2424 non-null   object  \n",
      " 53   lindt_truffle                                                                     2424 non-null   object  \n",
      " 54   lollipops                                                                         2424 non-null   object  \n",
      " 55   mars                                                                              2424 non-null   object  \n",
      " 56   maynards                                                                          2424 non-null   object  \n",
      " 57   mike_and_ike                                                                      2424 non-null   object  \n",
      " 58   milk_duds                                                                         2424 non-null   object  \n",
      " 59   milky_way                                                                         2424 non-null   object  \n",
      " 60   regular_m&ms                                                                      2424 non-null   object  \n",
      " 61   peanut_m&m’s                                                                      2424 non-null   object  \n",
      " 62   blue_m&m's                                                                        2424 non-null   object  \n",
      " 63   red_m&m's                                                                         2424 non-null   object  \n",
      " 64   green_party_m&m's                                                                 2424 non-null   object  \n",
      " 65   independent_m&m's                                                                 2424 non-null   object  \n",
      " 66   abstained_from_m&m'ing.                                                           2424 non-null   object  \n",
      " 67   minibags_of_chips                                                                 2424 non-null   object  \n",
      " 68   mint_kisses                                                                       2424 non-null   object  \n",
      " 69   mint_juleps                                                                       2424 non-null   object  \n",
      " 70   mr._goodbar                                                                       2424 non-null   object  \n",
      " 71   necco_wafers                                                                      2424 non-null   object  \n",
      " 72   nerds                                                                             2424 non-null   object  \n",
      " 73   nestle_crunch                                                                     2424 non-null   object  \n",
      " 74   now'n'laters                                                                      2424 non-null   object  \n",
      " 75   peeps                                                                             2424 non-null   object  \n",
      " 76   pencils                                                                           2424 non-null   object  \n",
      " 77   pixy_stix                                                                         2424 non-null   object  \n",
      " 78   real_housewives_of_orange_county_season_9_blue-ray                                2424 non-null   object  \n",
      " 79   reese’s_peanut_butter_cups                                                        2424 non-null   object  \n",
      " 80   reese's_pieces                                                                    2424 non-null   object  \n",
      " 81   reggie_jackson_bar                                                                2424 non-null   object  \n",
      " 82   rolos                                                                             2424 non-null   object  \n",
      " 83   sandwich-sized_bags_filled_with_booberry_crunch                                   2424 non-null   object  \n",
      " 84   skittles                                                                          2424 non-null   object  \n",
      " 85   smarties_(american)                                                               2424 non-null   object  \n",
      " 86   smarties_(commonwealth)                                                           2424 non-null   object  \n",
      " 87   snickers                                                                          2424 non-null   object  \n",
      " 88   sourpatch_kids_(i.e._abominations_of_nature)                                      2424 non-null   object  \n",
      " 89   spotted_dick                                                                      2424 non-null   object  \n",
      " 90   starburst                                                                         2424 non-null   object  \n",
      " 91   sweet_tarts                                                                       2424 non-null   object  \n",
      " 92   swedish_fish                                                                      2424 non-null   object  \n",
      " 93   sweetums_(a_friend_to_diabetes)                                                   2424 non-null   object  \n",
      " 94   take_5                                                                            2424 non-null   object  \n",
      " 95   tic_tacs                                                                          2424 non-null   object  \n",
      " 96   those_odd_marshmallow_circus_peanut_things                                        2424 non-null   object  \n",
      " 97   three_musketeers                                                                  2424 non-null   object  \n",
      " 98   tolberone_something_or_other                                                      2424 non-null   object  \n",
      " 99   trail_mix                                                                         2424 non-null   object  \n",
      " 100  twix                                                                              2424 non-null   object  \n",
      " 101  vials_of_pure_high_fructose_corn_syrup,_for_main-lining_into_your_vein            2424 non-null   object  \n",
      " 102  vicodin                                                                           2424 non-null   object  \n",
      " 103  whatchamacallit_bars                                                              2424 non-null   object  \n",
      " 104  white_bread                                                                       2424 non-null   object  \n",
      " 105  whole_wheat_anything                                                              2424 non-null   object  \n",
      " 106  york_peppermint_patties                                                           2424 non-null   object  \n",
      " 107  dress                                                                             2424 non-null   category\n",
      " 108  day                                                                               2424 non-null   category\n",
      " 109  click_coordinates_(x,_y)                                                          1605 non-null   object  \n",
      "dtypes: category(4), float64(1), object(105)\n",
      "memory usage: 2.0+ MB\n"
     ]
    },
    {
     "name": "stderr",
     "output_type": "stream",
     "text": [
      "<ipython-input-59-bcd59916ba77>:1: FutureWarning: null_counts is deprecated. Use show_counts instead\n",
      "  candy.info(verbose=True, null_counts=True)\n"
     ]
    }
   ],
   "source": [
    "candy.info(verbose=True, null_counts=True)"
   ]
  },
  {
   "cell_type": "markdown",
   "metadata": {},
   "source": [
    "### 14 - write a summary about all the cleaning steps "
   ]
  },
  {
   "cell_type": "markdown",
   "metadata": {},
   "source": [
    "###### "
   ]
  }
 ],
 "metadata": {
  "kernelspec": {
   "display_name": "Python 3",
   "language": "python",
   "name": "python3"
  },
  "language_info": {
   "codemirror_mode": {
    "name": "ipython",
    "version": 3
   },
   "file_extension": ".py",
   "mimetype": "text/x-python",
   "name": "python",
   "nbconvert_exporter": "python",
   "pygments_lexer": "ipython3",
   "version": "3.8.8"
  }
 },
 "nbformat": 4,
 "nbformat_minor": 4
}
